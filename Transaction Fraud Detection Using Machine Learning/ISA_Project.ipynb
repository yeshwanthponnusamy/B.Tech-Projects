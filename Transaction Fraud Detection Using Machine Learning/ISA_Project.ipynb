{
  "nbformat": 4,
  "nbformat_minor": 0,
  "metadata": {
    "colab": {
      "name": "ISA Project.ipynb",
      "provenance": [],
      "collapsed_sections": [
        "sEbQfvBhjCl2",
        "NsGWzhuGi9WE",
        "Q8IbWxM9i5m1",
        "ylx31787Zfe1",
        "LnXipofJizbL",
        "Z-I0aEKYa45G",
        "stpiTRTSbiX1",
        "4fyO9Tu2bpV5",
        "86mUT2MicmLS",
        "qyBz2LQzgJug",
        "V8KoomFXjNuK"
      ]
    },
    "kernelspec": {
      "name": "python3",
      "display_name": "Python 3"
    },
    "language_info": {
      "name": "python"
    }
  },
  "cells": [
    {
      "cell_type": "markdown",
      "metadata": {
        "id": "hJ7FALtQjNfn"
      },
      "source": [
        "#**TRANSACTION FRAUD DETECTION USING MACHINE LEARNING**"
      ]
    },
    {
      "cell_type": "markdown",
      "metadata": {
        "id": "sEbQfvBhjCl2"
      },
      "source": [
        "#IMPORTING LIBRARIES TO RUN THE ALGORITHM"
      ]
    },
    {
      "cell_type": "code",
      "metadata": {
        "id": "kIwEFNQN3-Eh"
      },
      "source": [
        "import numpy as np # linear algebra\n",
        "import pandas as pd # data processing, CSV file I/O (e.g. pd.read_csv)\n",
        "from keras.models import Sequential\n",
        "from keras.layers import Dense\n",
        "import matplotlib.pyplot as plt\n",
        "import seaborn as sns\n",
        "from sklearn import svm\n",
        "from sklearn.model_selection import cross_val_score\n",
        "from sklearn.model_selection import StratifiedKFold\n",
        "from sklearn.model_selection import train_test_split\n",
        "from sklearn.metrics import recall_score\n",
        "from sklearn.ensemble import RandomForestClassifier\n",
        "from sklearn.metrics import classification_report"
      ],
      "execution_count": 42,
      "outputs": []
    },
    {
      "cell_type": "markdown",
      "metadata": {
        "id": "NsGWzhuGi9WE"
      },
      "source": [
        "#Dataset Preprocessing"
      ]
    },
    {
      "cell_type": "code",
      "metadata": {
        "colab": {
          "base_uri": "https://localhost:8080/",
          "height": 437
        },
        "id": "m9MdypQA5eIx",
        "outputId": "cd2aa9ee-3870-4ff4-f66c-7f495d4659a9"
      },
      "source": [
        "W_Data=pd.read_csv(\"creditcard.csv\")\n",
        "W_Data.dropna(thresh=284315)\n",
        "Data=W_Data\n",
        "Data"
      ],
      "execution_count": 43,
      "outputs": [
        {
          "output_type": "execute_result",
          "data": {
            "text/html": [
              "<div>\n",
              "<style scoped>\n",
              "    .dataframe tbody tr th:only-of-type {\n",
              "        vertical-align: middle;\n",
              "    }\n",
              "\n",
              "    .dataframe tbody tr th {\n",
              "        vertical-align: top;\n",
              "    }\n",
              "\n",
              "    .dataframe thead th {\n",
              "        text-align: right;\n",
              "    }\n",
              "</style>\n",
              "<table border=\"1\" class=\"dataframe\">\n",
              "  <thead>\n",
              "    <tr style=\"text-align: right;\">\n",
              "      <th></th>\n",
              "      <th>Time</th>\n",
              "      <th>V1</th>\n",
              "      <th>V2</th>\n",
              "      <th>V3</th>\n",
              "      <th>V4</th>\n",
              "      <th>V5</th>\n",
              "      <th>V6</th>\n",
              "      <th>V7</th>\n",
              "      <th>V8</th>\n",
              "      <th>V9</th>\n",
              "      <th>V10</th>\n",
              "      <th>V11</th>\n",
              "      <th>V12</th>\n",
              "      <th>V13</th>\n",
              "      <th>V14</th>\n",
              "      <th>V15</th>\n",
              "      <th>V16</th>\n",
              "      <th>V17</th>\n",
              "      <th>V18</th>\n",
              "      <th>V19</th>\n",
              "      <th>V20</th>\n",
              "      <th>V21</th>\n",
              "      <th>V22</th>\n",
              "      <th>V23</th>\n",
              "      <th>V24</th>\n",
              "      <th>V25</th>\n",
              "      <th>V26</th>\n",
              "      <th>V27</th>\n",
              "      <th>V28</th>\n",
              "      <th>Amount</th>\n",
              "      <th>Class</th>\n",
              "    </tr>\n",
              "  </thead>\n",
              "  <tbody>\n",
              "    <tr>\n",
              "      <th>0</th>\n",
              "      <td>0</td>\n",
              "      <td>-1.359807</td>\n",
              "      <td>-0.072781</td>\n",
              "      <td>2.536347</td>\n",
              "      <td>1.378155</td>\n",
              "      <td>-0.338321</td>\n",
              "      <td>0.462388</td>\n",
              "      <td>0.239599</td>\n",
              "      <td>0.098698</td>\n",
              "      <td>0.363787</td>\n",
              "      <td>0.090794</td>\n",
              "      <td>-0.551600</td>\n",
              "      <td>-0.617801</td>\n",
              "      <td>-0.991390</td>\n",
              "      <td>-0.311169</td>\n",
              "      <td>1.468177</td>\n",
              "      <td>-0.470401</td>\n",
              "      <td>0.207971</td>\n",
              "      <td>0.025791</td>\n",
              "      <td>0.403993</td>\n",
              "      <td>0.251412</td>\n",
              "      <td>-0.018307</td>\n",
              "      <td>0.277838</td>\n",
              "      <td>-0.110474</td>\n",
              "      <td>0.066928</td>\n",
              "      <td>0.128539</td>\n",
              "      <td>-0.189115</td>\n",
              "      <td>0.133558</td>\n",
              "      <td>-0.021053</td>\n",
              "      <td>149.62</td>\n",
              "      <td>0.0</td>\n",
              "    </tr>\n",
              "    <tr>\n",
              "      <th>1</th>\n",
              "      <td>0</td>\n",
              "      <td>1.191857</td>\n",
              "      <td>0.266151</td>\n",
              "      <td>0.166480</td>\n",
              "      <td>0.448154</td>\n",
              "      <td>0.060018</td>\n",
              "      <td>-0.082361</td>\n",
              "      <td>-0.078803</td>\n",
              "      <td>0.085102</td>\n",
              "      <td>-0.255425</td>\n",
              "      <td>-0.166974</td>\n",
              "      <td>1.612727</td>\n",
              "      <td>1.065235</td>\n",
              "      <td>0.489095</td>\n",
              "      <td>-0.143772</td>\n",
              "      <td>0.635558</td>\n",
              "      <td>0.463917</td>\n",
              "      <td>-0.114805</td>\n",
              "      <td>-0.183361</td>\n",
              "      <td>-0.145783</td>\n",
              "      <td>-0.069083</td>\n",
              "      <td>-0.225775</td>\n",
              "      <td>-0.638672</td>\n",
              "      <td>0.101288</td>\n",
              "      <td>-0.339846</td>\n",
              "      <td>0.167170</td>\n",
              "      <td>0.125895</td>\n",
              "      <td>-0.008983</td>\n",
              "      <td>0.014724</td>\n",
              "      <td>2.69</td>\n",
              "      <td>0.0</td>\n",
              "    </tr>\n",
              "    <tr>\n",
              "      <th>2</th>\n",
              "      <td>1</td>\n",
              "      <td>-1.358354</td>\n",
              "      <td>-1.340163</td>\n",
              "      <td>1.773209</td>\n",
              "      <td>0.379780</td>\n",
              "      <td>-0.503198</td>\n",
              "      <td>1.800499</td>\n",
              "      <td>0.791461</td>\n",
              "      <td>0.247676</td>\n",
              "      <td>-1.514654</td>\n",
              "      <td>0.207643</td>\n",
              "      <td>0.624501</td>\n",
              "      <td>0.066084</td>\n",
              "      <td>0.717293</td>\n",
              "      <td>-0.165946</td>\n",
              "      <td>2.345865</td>\n",
              "      <td>-2.890083</td>\n",
              "      <td>1.109969</td>\n",
              "      <td>-0.121359</td>\n",
              "      <td>-2.261857</td>\n",
              "      <td>0.524980</td>\n",
              "      <td>0.247998</td>\n",
              "      <td>0.771679</td>\n",
              "      <td>0.909412</td>\n",
              "      <td>-0.689281</td>\n",
              "      <td>-0.327642</td>\n",
              "      <td>-0.139097</td>\n",
              "      <td>-0.055353</td>\n",
              "      <td>-0.059752</td>\n",
              "      <td>378.66</td>\n",
              "      <td>0.0</td>\n",
              "    </tr>\n",
              "    <tr>\n",
              "      <th>3</th>\n",
              "      <td>1</td>\n",
              "      <td>-0.966272</td>\n",
              "      <td>-0.185226</td>\n",
              "      <td>1.792993</td>\n",
              "      <td>-0.863291</td>\n",
              "      <td>-0.010309</td>\n",
              "      <td>1.247203</td>\n",
              "      <td>0.237609</td>\n",
              "      <td>0.377436</td>\n",
              "      <td>-1.387024</td>\n",
              "      <td>-0.054952</td>\n",
              "      <td>-0.226487</td>\n",
              "      <td>0.178228</td>\n",
              "      <td>0.507757</td>\n",
              "      <td>-0.287924</td>\n",
              "      <td>-0.631418</td>\n",
              "      <td>-1.059647</td>\n",
              "      <td>-0.684093</td>\n",
              "      <td>1.965775</td>\n",
              "      <td>-1.232622</td>\n",
              "      <td>-0.208038</td>\n",
              "      <td>-0.108300</td>\n",
              "      <td>0.005274</td>\n",
              "      <td>-0.190321</td>\n",
              "      <td>-1.175575</td>\n",
              "      <td>0.647376</td>\n",
              "      <td>-0.221929</td>\n",
              "      <td>0.062723</td>\n",
              "      <td>0.061458</td>\n",
              "      <td>123.50</td>\n",
              "      <td>0.0</td>\n",
              "    </tr>\n",
              "    <tr>\n",
              "      <th>4</th>\n",
              "      <td>2</td>\n",
              "      <td>-1.158233</td>\n",
              "      <td>0.877737</td>\n",
              "      <td>1.548718</td>\n",
              "      <td>0.403034</td>\n",
              "      <td>-0.407193</td>\n",
              "      <td>0.095921</td>\n",
              "      <td>0.592941</td>\n",
              "      <td>-0.270533</td>\n",
              "      <td>0.817739</td>\n",
              "      <td>0.753074</td>\n",
              "      <td>-0.822843</td>\n",
              "      <td>0.538196</td>\n",
              "      <td>1.345852</td>\n",
              "      <td>-1.119670</td>\n",
              "      <td>0.175121</td>\n",
              "      <td>-0.451449</td>\n",
              "      <td>-0.237033</td>\n",
              "      <td>-0.038195</td>\n",
              "      <td>0.803487</td>\n",
              "      <td>0.408542</td>\n",
              "      <td>-0.009431</td>\n",
              "      <td>0.798278</td>\n",
              "      <td>-0.137458</td>\n",
              "      <td>0.141267</td>\n",
              "      <td>-0.206010</td>\n",
              "      <td>0.502292</td>\n",
              "      <td>0.219422</td>\n",
              "      <td>0.215153</td>\n",
              "      <td>69.99</td>\n",
              "      <td>0.0</td>\n",
              "    </tr>\n",
              "    <tr>\n",
              "      <th>...</th>\n",
              "      <td>...</td>\n",
              "      <td>...</td>\n",
              "      <td>...</td>\n",
              "      <td>...</td>\n",
              "      <td>...</td>\n",
              "      <td>...</td>\n",
              "      <td>...</td>\n",
              "      <td>...</td>\n",
              "      <td>...</td>\n",
              "      <td>...</td>\n",
              "      <td>...</td>\n",
              "      <td>...</td>\n",
              "      <td>...</td>\n",
              "      <td>...</td>\n",
              "      <td>...</td>\n",
              "      <td>...</td>\n",
              "      <td>...</td>\n",
              "      <td>...</td>\n",
              "      <td>...</td>\n",
              "      <td>...</td>\n",
              "      <td>...</td>\n",
              "      <td>...</td>\n",
              "      <td>...</td>\n",
              "      <td>...</td>\n",
              "      <td>...</td>\n",
              "      <td>...</td>\n",
              "      <td>...</td>\n",
              "      <td>...</td>\n",
              "      <td>...</td>\n",
              "      <td>...</td>\n",
              "      <td>...</td>\n",
              "    </tr>\n",
              "    <tr>\n",
              "      <th>7968</th>\n",
              "      <td>10980</td>\n",
              "      <td>1.284388</td>\n",
              "      <td>-0.013181</td>\n",
              "      <td>0.646174</td>\n",
              "      <td>0.198985</td>\n",
              "      <td>-0.568675</td>\n",
              "      <td>-0.526121</td>\n",
              "      <td>-0.448235</td>\n",
              "      <td>-0.167709</td>\n",
              "      <td>1.773223</td>\n",
              "      <td>-0.519404</td>\n",
              "      <td>0.161145</td>\n",
              "      <td>-2.544463</td>\n",
              "      <td>1.884534</td>\n",
              "      <td>1.442652</td>\n",
              "      <td>0.619497</td>\n",
              "      <td>0.644020</td>\n",
              "      <td>0.098878</td>\n",
              "      <td>0.330833</td>\n",
              "      <td>-0.200774</td>\n",
              "      <td>-0.063281</td>\n",
              "      <td>-0.101868</td>\n",
              "      <td>-0.030298</td>\n",
              "      <td>-0.081412</td>\n",
              "      <td>-0.123281</td>\n",
              "      <td>0.278808</td>\n",
              "      <td>1.064001</td>\n",
              "      <td>-0.090181</td>\n",
              "      <td>0.000481</td>\n",
              "      <td>15.95</td>\n",
              "      <td>0.0</td>\n",
              "    </tr>\n",
              "    <tr>\n",
              "      <th>7969</th>\n",
              "      <td>10981</td>\n",
              "      <td>1.190428</td>\n",
              "      <td>-0.122329</td>\n",
              "      <td>0.954945</td>\n",
              "      <td>0.267101</td>\n",
              "      <td>-0.971026</td>\n",
              "      <td>-0.652279</td>\n",
              "      <td>-0.612992</td>\n",
              "      <td>-0.003909</td>\n",
              "      <td>1.633117</td>\n",
              "      <td>-0.318143</td>\n",
              "      <td>2.330536</td>\n",
              "      <td>-2.209314</td>\n",
              "      <td>0.545743</td>\n",
              "      <td>1.907179</td>\n",
              "      <td>-0.011898</td>\n",
              "      <td>0.677038</td>\n",
              "      <td>0.181601</td>\n",
              "      <td>0.722285</td>\n",
              "      <td>-0.182498</td>\n",
              "      <td>-0.150267</td>\n",
              "      <td>-0.015001</td>\n",
              "      <td>0.127027</td>\n",
              "      <td>0.012079</td>\n",
              "      <td>0.534409</td>\n",
              "      <td>0.112179</td>\n",
              "      <td>1.004483</td>\n",
              "      <td>-0.100188</td>\n",
              "      <td>-0.004774</td>\n",
              "      <td>14.95</td>\n",
              "      <td>0.0</td>\n",
              "    </tr>\n",
              "    <tr>\n",
              "      <th>7970</th>\n",
              "      <td>10981</td>\n",
              "      <td>-0.725175</td>\n",
              "      <td>0.298202</td>\n",
              "      <td>1.824761</td>\n",
              "      <td>-2.587170</td>\n",
              "      <td>0.283605</td>\n",
              "      <td>-0.016617</td>\n",
              "      <td>0.153659</td>\n",
              "      <td>0.045084</td>\n",
              "      <td>-0.197611</td>\n",
              "      <td>-0.674963</td>\n",
              "      <td>1.095737</td>\n",
              "      <td>-2.909335</td>\n",
              "      <td>2.066815</td>\n",
              "      <td>1.051837</td>\n",
              "      <td>-1.684076</td>\n",
              "      <td>2.293792</td>\n",
              "      <td>-0.372457</td>\n",
              "      <td>-0.236906</td>\n",
              "      <td>-0.501182</td>\n",
              "      <td>-0.001388</td>\n",
              "      <td>-0.017097</td>\n",
              "      <td>-0.070535</td>\n",
              "      <td>-0.442861</td>\n",
              "      <td>-0.895837</td>\n",
              "      <td>0.624743</td>\n",
              "      <td>-0.510601</td>\n",
              "      <td>-0.031142</td>\n",
              "      <td>0.025564</td>\n",
              "      <td>12.95</td>\n",
              "      <td>0.0</td>\n",
              "    </tr>\n",
              "    <tr>\n",
              "      <th>7971</th>\n",
              "      <td>10981</td>\n",
              "      <td>1.226153</td>\n",
              "      <td>-0.129645</td>\n",
              "      <td>0.735197</td>\n",
              "      <td>0.142752</td>\n",
              "      <td>-0.703245</td>\n",
              "      <td>-0.349641</td>\n",
              "      <td>-0.612641</td>\n",
              "      <td>0.020507</td>\n",
              "      <td>1.648986</td>\n",
              "      <td>-0.321755</td>\n",
              "      <td>1.875102</td>\n",
              "      <td>-2.311686</td>\n",
              "      <td>0.777992</td>\n",
              "      <td>1.847948</td>\n",
              "      <td>0.011394</td>\n",
              "      <td>0.826476</td>\n",
              "      <td>-0.020695</td>\n",
              "      <td>0.879692</td>\n",
              "      <td>0.018045</td>\n",
              "      <td>-0.122552</td>\n",
              "      <td>-0.047936</td>\n",
              "      <td>0.040196</td>\n",
              "      <td>-0.057391</td>\n",
              "      <td>-0.012386</td>\n",
              "      <td>0.187685</td>\n",
              "      <td>1.037786</td>\n",
              "      <td>-0.100081</td>\n",
              "      <td>-0.009869</td>\n",
              "      <td>15.95</td>\n",
              "      <td>0.0</td>\n",
              "    </tr>\n",
              "    <tr>\n",
              "      <th>7972</th>\n",
              "      <td>10981</td>\n",
              "      <td>1.145381</td>\n",
              "      <td>-0.059349</td>\n",
              "      <td>0.968088</td>\n",
              "      <td>0.267891</td>\n",
              "      <td>-0.822582</td>\n",
              "      <td>-0.597727</td>\n",
              "      <td>-0.450197</td>\n",
              "      <td>-0.119747</td>\n",
              "      <td>1.338188</td>\n",
              "      <td>-0.386004</td>\n",
              "      <td>2.659863</td>\n",
              "      <td>-1.182350</td>\n",
              "      <td>2.479139</td>\n",
              "      <td>1.000000</td>\n",
              "      <td>NaN</td>\n",
              "      <td>NaN</td>\n",
              "      <td>NaN</td>\n",
              "      <td>NaN</td>\n",
              "      <td>NaN</td>\n",
              "      <td>NaN</td>\n",
              "      <td>NaN</td>\n",
              "      <td>NaN</td>\n",
              "      <td>NaN</td>\n",
              "      <td>NaN</td>\n",
              "      <td>NaN</td>\n",
              "      <td>NaN</td>\n",
              "      <td>NaN</td>\n",
              "      <td>NaN</td>\n",
              "      <td>NaN</td>\n",
              "      <td>NaN</td>\n",
              "    </tr>\n",
              "  </tbody>\n",
              "</table>\n",
              "<p>7973 rows × 31 columns</p>\n",
              "</div>"
            ],
            "text/plain": [
              "       Time        V1        V2        V3  ...       V27       V28  Amount  Class\n",
              "0         0 -1.359807 -0.072781  2.536347  ...  0.133558 -0.021053  149.62    0.0\n",
              "1         0  1.191857  0.266151  0.166480  ... -0.008983  0.014724    2.69    0.0\n",
              "2         1 -1.358354 -1.340163  1.773209  ... -0.055353 -0.059752  378.66    0.0\n",
              "3         1 -0.966272 -0.185226  1.792993  ...  0.062723  0.061458  123.50    0.0\n",
              "4         2 -1.158233  0.877737  1.548718  ...  0.219422  0.215153   69.99    0.0\n",
              "...     ...       ...       ...       ...  ...       ...       ...     ...    ...\n",
              "7968  10980  1.284388 -0.013181  0.646174  ... -0.090181  0.000481   15.95    0.0\n",
              "7969  10981  1.190428 -0.122329  0.954945  ... -0.100188 -0.004774   14.95    0.0\n",
              "7970  10981 -0.725175  0.298202  1.824761  ... -0.031142  0.025564   12.95    0.0\n",
              "7971  10981  1.226153 -0.129645  0.735197  ... -0.100081 -0.009869   15.95    0.0\n",
              "7972  10981  1.145381 -0.059349  0.968088  ...       NaN       NaN     NaN    NaN\n",
              "\n",
              "[7973 rows x 31 columns]"
            ]
          },
          "metadata": {},
          "execution_count": 43
        }
      ]
    },
    {
      "cell_type": "code",
      "metadata": {
        "colab": {
          "base_uri": "https://localhost:8080/",
          "height": 223
        },
        "id": "35MvK7aw8GkN",
        "outputId": "0edd2824-ae0d-487e-8502-ef878d5c8835"
      },
      "source": [
        "Data.sample(frac=0.1).head(n=5)"
      ],
      "execution_count": 44,
      "outputs": [
        {
          "output_type": "execute_result",
          "data": {
            "text/html": [
              "<div>\n",
              "<style scoped>\n",
              "    .dataframe tbody tr th:only-of-type {\n",
              "        vertical-align: middle;\n",
              "    }\n",
              "\n",
              "    .dataframe tbody tr th {\n",
              "        vertical-align: top;\n",
              "    }\n",
              "\n",
              "    .dataframe thead th {\n",
              "        text-align: right;\n",
              "    }\n",
              "</style>\n",
              "<table border=\"1\" class=\"dataframe\">\n",
              "  <thead>\n",
              "    <tr style=\"text-align: right;\">\n",
              "      <th></th>\n",
              "      <th>Time</th>\n",
              "      <th>V1</th>\n",
              "      <th>V2</th>\n",
              "      <th>V3</th>\n",
              "      <th>V4</th>\n",
              "      <th>V5</th>\n",
              "      <th>V6</th>\n",
              "      <th>V7</th>\n",
              "      <th>V8</th>\n",
              "      <th>V9</th>\n",
              "      <th>V10</th>\n",
              "      <th>V11</th>\n",
              "      <th>V12</th>\n",
              "      <th>V13</th>\n",
              "      <th>V14</th>\n",
              "      <th>V15</th>\n",
              "      <th>V16</th>\n",
              "      <th>V17</th>\n",
              "      <th>V18</th>\n",
              "      <th>V19</th>\n",
              "      <th>V20</th>\n",
              "      <th>V21</th>\n",
              "      <th>V22</th>\n",
              "      <th>V23</th>\n",
              "      <th>V24</th>\n",
              "      <th>V25</th>\n",
              "      <th>V26</th>\n",
              "      <th>V27</th>\n",
              "      <th>V28</th>\n",
              "      <th>Amount</th>\n",
              "      <th>Class</th>\n",
              "    </tr>\n",
              "  </thead>\n",
              "  <tbody>\n",
              "    <tr>\n",
              "      <th>2203</th>\n",
              "      <td>1722</td>\n",
              "      <td>1.605329</td>\n",
              "      <td>-0.938477</td>\n",
              "      <td>-0.178057</td>\n",
              "      <td>-1.646642</td>\n",
              "      <td>-0.756636</td>\n",
              "      <td>-0.187819</td>\n",
              "      <td>-0.851085</td>\n",
              "      <td>-0.245318</td>\n",
              "      <td>-1.929063</td>\n",
              "      <td>1.415726</td>\n",
              "      <td>-1.554478</td>\n",
              "      <td>-0.703856</td>\n",
              "      <td>2.020442</td>\n",
              "      <td>-0.655287</td>\n",
              "      <td>0.520477</td>\n",
              "      <td>-0.095254</td>\n",
              "      <td>-0.070090</td>\n",
              "      <td>0.413706</td>\n",
              "      <td>0.195110</td>\n",
              "      <td>-0.182756</td>\n",
              "      <td>-0.131774</td>\n",
              "      <td>0.094556</td>\n",
              "      <td>-0.266657</td>\n",
              "      <td>-0.964364</td>\n",
              "      <td>0.761879</td>\n",
              "      <td>0.041884</td>\n",
              "      <td>0.033562</td>\n",
              "      <td>0.007736</td>\n",
              "      <td>22.75</td>\n",
              "      <td>0.0</td>\n",
              "    </tr>\n",
              "    <tr>\n",
              "      <th>2609</th>\n",
              "      <td>2139</td>\n",
              "      <td>-3.975475</td>\n",
              "      <td>2.387299</td>\n",
              "      <td>0.061287</td>\n",
              "      <td>-1.121528</td>\n",
              "      <td>-2.343846</td>\n",
              "      <td>-0.792692</td>\n",
              "      <td>-1.430377</td>\n",
              "      <td>2.038205</td>\n",
              "      <td>1.054185</td>\n",
              "      <td>-0.093363</td>\n",
              "      <td>-1.407270</td>\n",
              "      <td>0.866593</td>\n",
              "      <td>0.129093</td>\n",
              "      <td>0.323305</td>\n",
              "      <td>-0.433710</td>\n",
              "      <td>0.795683</td>\n",
              "      <td>0.309408</td>\n",
              "      <td>-0.249796</td>\n",
              "      <td>-0.599240</td>\n",
              "      <td>0.034540</td>\n",
              "      <td>-0.103319</td>\n",
              "      <td>-0.189793</td>\n",
              "      <td>0.121646</td>\n",
              "      <td>0.442897</td>\n",
              "      <td>0.237122</td>\n",
              "      <td>0.834193</td>\n",
              "      <td>-0.221939</td>\n",
              "      <td>-0.094345</td>\n",
              "      <td>20.00</td>\n",
              "      <td>0.0</td>\n",
              "    </tr>\n",
              "    <tr>\n",
              "      <th>2386</th>\n",
              "      <td>1937</td>\n",
              "      <td>-5.104692</td>\n",
              "      <td>-5.838155</td>\n",
              "      <td>-0.952477</td>\n",
              "      <td>4.449005</td>\n",
              "      <td>-0.304528</td>\n",
              "      <td>1.374297</td>\n",
              "      <td>3.267331</td>\n",
              "      <td>-1.119640</td>\n",
              "      <td>-0.783320</td>\n",
              "      <td>1.412059</td>\n",
              "      <td>1.914853</td>\n",
              "      <td>-0.038626</td>\n",
              "      <td>-0.007007</td>\n",
              "      <td>0.077030</td>\n",
              "      <td>1.530058</td>\n",
              "      <td>0.013989</td>\n",
              "      <td>-0.194767</td>\n",
              "      <td>-0.314135</td>\n",
              "      <td>0.423418</td>\n",
              "      <td>-1.024936</td>\n",
              "      <td>-0.344246</td>\n",
              "      <td>0.881495</td>\n",
              "      <td>0.470187</td>\n",
              "      <td>-0.093402</td>\n",
              "      <td>-1.274737</td>\n",
              "      <td>0.086849</td>\n",
              "      <td>0.464011</td>\n",
              "      <td>0.509149</td>\n",
              "      <td>1321.12</td>\n",
              "      <td>0.0</td>\n",
              "    </tr>\n",
              "    <tr>\n",
              "      <th>5473</th>\n",
              "      <td>5504</td>\n",
              "      <td>-0.738377</td>\n",
              "      <td>0.860381</td>\n",
              "      <td>1.260867</td>\n",
              "      <td>-0.051251</td>\n",
              "      <td>0.854271</td>\n",
              "      <td>1.362227</td>\n",
              "      <td>0.040346</td>\n",
              "      <td>0.652440</td>\n",
              "      <td>0.937356</td>\n",
              "      <td>-0.741576</td>\n",
              "      <td>3.115344</td>\n",
              "      <td>-2.409459</td>\n",
              "      <td>-0.060779</td>\n",
              "      <td>1.616114</td>\n",
              "      <td>0.739481</td>\n",
              "      <td>-0.648065</td>\n",
              "      <td>1.779777</td>\n",
              "      <td>-1.114914</td>\n",
              "      <td>-1.534234</td>\n",
              "      <td>-0.188945</td>\n",
              "      <td>-0.249761</td>\n",
              "      <td>-0.398134</td>\n",
              "      <td>0.197991</td>\n",
              "      <td>-1.178376</td>\n",
              "      <td>-0.581077</td>\n",
              "      <td>0.139913</td>\n",
              "      <td>0.148226</td>\n",
              "      <td>0.053889</td>\n",
              "      <td>1.29</td>\n",
              "      <td>0.0</td>\n",
              "    </tr>\n",
              "    <tr>\n",
              "      <th>3450</th>\n",
              "      <td>2940</td>\n",
              "      <td>-0.438914</td>\n",
              "      <td>0.671404</td>\n",
              "      <td>1.294900</td>\n",
              "      <td>-1.957891</td>\n",
              "      <td>0.090522</td>\n",
              "      <td>-1.341552</td>\n",
              "      <td>1.100994</td>\n",
              "      <td>-0.333205</td>\n",
              "      <td>0.807928</td>\n",
              "      <td>-1.191809</td>\n",
              "      <td>0.339911</td>\n",
              "      <td>0.434177</td>\n",
              "      <td>-0.425685</td>\n",
              "      <td>0.159118</td>\n",
              "      <td>1.107113</td>\n",
              "      <td>-1.024228</td>\n",
              "      <td>-0.092986</td>\n",
              "      <td>-0.568483</td>\n",
              "      <td>-0.659685</td>\n",
              "      <td>-0.025057</td>\n",
              "      <td>0.121962</td>\n",
              "      <td>0.759278</td>\n",
              "      <td>-0.199557</td>\n",
              "      <td>0.609514</td>\n",
              "      <td>-0.073956</td>\n",
              "      <td>-0.842426</td>\n",
              "      <td>0.255422</td>\n",
              "      <td>-0.011901</td>\n",
              "      <td>1.00</td>\n",
              "      <td>0.0</td>\n",
              "    </tr>\n",
              "  </tbody>\n",
              "</table>\n",
              "</div>"
            ],
            "text/plain": [
              "      Time        V1        V2        V3  ...       V27       V28   Amount  Class\n",
              "2203  1722  1.605329 -0.938477 -0.178057  ...  0.033562  0.007736    22.75    0.0\n",
              "2609  2139 -3.975475  2.387299  0.061287  ... -0.221939 -0.094345    20.00    0.0\n",
              "2386  1937 -5.104692 -5.838155 -0.952477  ...  0.464011  0.509149  1321.12    0.0\n",
              "5473  5504 -0.738377  0.860381  1.260867  ...  0.148226  0.053889     1.29    0.0\n",
              "3450  2940 -0.438914  0.671404  1.294900  ...  0.255422 -0.011901     1.00    0.0\n",
              "\n",
              "[5 rows x 31 columns]"
            ]
          },
          "metadata": {},
          "execution_count": 44
        }
      ]
    },
    {
      "cell_type": "code",
      "metadata": {
        "colab": {
          "base_uri": "https://localhost:8080/",
          "height": 315
        },
        "id": "lIEwRhZ58Gi6",
        "outputId": "00e27f71-4112-40a7-eb38-7a88a4b4c26d"
      },
      "source": [
        "Data.describe()"
      ],
      "execution_count": 45,
      "outputs": [
        {
          "output_type": "execute_result",
          "data": {
            "text/html": [
              "<div>\n",
              "<style scoped>\n",
              "    .dataframe tbody tr th:only-of-type {\n",
              "        vertical-align: middle;\n",
              "    }\n",
              "\n",
              "    .dataframe tbody tr th {\n",
              "        vertical-align: top;\n",
              "    }\n",
              "\n",
              "    .dataframe thead th {\n",
              "        text-align: right;\n",
              "    }\n",
              "</style>\n",
              "<table border=\"1\" class=\"dataframe\">\n",
              "  <thead>\n",
              "    <tr style=\"text-align: right;\">\n",
              "      <th></th>\n",
              "      <th>Time</th>\n",
              "      <th>V1</th>\n",
              "      <th>V2</th>\n",
              "      <th>V3</th>\n",
              "      <th>V4</th>\n",
              "      <th>V5</th>\n",
              "      <th>V6</th>\n",
              "      <th>V7</th>\n",
              "      <th>V8</th>\n",
              "      <th>V9</th>\n",
              "      <th>V10</th>\n",
              "      <th>V11</th>\n",
              "      <th>V12</th>\n",
              "      <th>V13</th>\n",
              "      <th>V14</th>\n",
              "      <th>V15</th>\n",
              "      <th>V16</th>\n",
              "      <th>V17</th>\n",
              "      <th>V18</th>\n",
              "      <th>V19</th>\n",
              "      <th>V20</th>\n",
              "      <th>V21</th>\n",
              "      <th>V22</th>\n",
              "      <th>V23</th>\n",
              "      <th>V24</th>\n",
              "      <th>V25</th>\n",
              "      <th>V26</th>\n",
              "      <th>V27</th>\n",
              "      <th>V28</th>\n",
              "      <th>Amount</th>\n",
              "      <th>Class</th>\n",
              "    </tr>\n",
              "  </thead>\n",
              "  <tbody>\n",
              "    <tr>\n",
              "      <th>count</th>\n",
              "      <td>7973.000000</td>\n",
              "      <td>7973.000000</td>\n",
              "      <td>7973.000000</td>\n",
              "      <td>7973.000000</td>\n",
              "      <td>7973.000000</td>\n",
              "      <td>7973.000000</td>\n",
              "      <td>7973.000000</td>\n",
              "      <td>7973.000000</td>\n",
              "      <td>7973.000000</td>\n",
              "      <td>7973.000000</td>\n",
              "      <td>7973.000000</td>\n",
              "      <td>7973.000000</td>\n",
              "      <td>7973.000000</td>\n",
              "      <td>7973.000000</td>\n",
              "      <td>7973.000000</td>\n",
              "      <td>7972.000000</td>\n",
              "      <td>7972.000000</td>\n",
              "      <td>7972.000000</td>\n",
              "      <td>7972.000000</td>\n",
              "      <td>7972.000000</td>\n",
              "      <td>7972.000000</td>\n",
              "      <td>7972.000000</td>\n",
              "      <td>7972.000000</td>\n",
              "      <td>7972.000000</td>\n",
              "      <td>7972.000000</td>\n",
              "      <td>7972.000000</td>\n",
              "      <td>7972.000000</td>\n",
              "      <td>7972.000000</td>\n",
              "      <td>7972.000000</td>\n",
              "      <td>7972.000000</td>\n",
              "      <td>7972.000000</td>\n",
              "    </tr>\n",
              "    <tr>\n",
              "      <th>mean</th>\n",
              "      <td>4257.151261</td>\n",
              "      <td>-0.299740</td>\n",
              "      <td>0.295226</td>\n",
              "      <td>0.899355</td>\n",
              "      <td>0.215736</td>\n",
              "      <td>-0.025285</td>\n",
              "      <td>0.157286</td>\n",
              "      <td>-0.026445</td>\n",
              "      <td>-0.070525</td>\n",
              "      <td>0.655244</td>\n",
              "      <td>-0.164082</td>\n",
              "      <td>0.635874</td>\n",
              "      <td>-1.022368</td>\n",
              "      <td>0.690562</td>\n",
              "      <td>0.561420</td>\n",
              "      <td>-0.067884</td>\n",
              "      <td>-0.035773</td>\n",
              "      <td>0.279405</td>\n",
              "      <td>-0.060423</td>\n",
              "      <td>-0.055885</td>\n",
              "      <td>0.043110</td>\n",
              "      <td>-0.053715</td>\n",
              "      <td>-0.165799</td>\n",
              "      <td>-0.035174</td>\n",
              "      <td>0.025977</td>\n",
              "      <td>0.088893</td>\n",
              "      <td>0.020256</td>\n",
              "      <td>0.016150</td>\n",
              "      <td>0.001161</td>\n",
              "      <td>65.413540</td>\n",
              "      <td>0.003136</td>\n",
              "    </tr>\n",
              "    <tr>\n",
              "      <th>std</th>\n",
              "      <td>3198.964299</td>\n",
              "      <td>1.498341</td>\n",
              "      <td>1.283914</td>\n",
              "      <td>1.090297</td>\n",
              "      <td>1.447057</td>\n",
              "      <td>1.167218</td>\n",
              "      <td>1.325015</td>\n",
              "      <td>1.063709</td>\n",
              "      <td>1.332568</td>\n",
              "      <td>1.156618</td>\n",
              "      <td>1.084482</td>\n",
              "      <td>1.131918</td>\n",
              "      <td>1.510336</td>\n",
              "      <td>1.238190</td>\n",
              "      <td>1.137602</td>\n",
              "      <td>0.983633</td>\n",
              "      <td>0.841755</td>\n",
              "      <td>0.852101</td>\n",
              "      <td>0.791354</td>\n",
              "      <td>0.811364</td>\n",
              "      <td>0.605707</td>\n",
              "      <td>0.953498</td>\n",
              "      <td>0.654858</td>\n",
              "      <td>0.488322</td>\n",
              "      <td>0.601760</td>\n",
              "      <td>0.427505</td>\n",
              "      <td>0.517409</td>\n",
              "      <td>0.403570</td>\n",
              "      <td>0.275976</td>\n",
              "      <td>194.911169</td>\n",
              "      <td>0.055915</td>\n",
              "    </tr>\n",
              "    <tr>\n",
              "      <th>min</th>\n",
              "      <td>0.000000</td>\n",
              "      <td>-23.066842</td>\n",
              "      <td>-25.640527</td>\n",
              "      <td>-12.389545</td>\n",
              "      <td>-4.657545</td>\n",
              "      <td>-32.092129</td>\n",
              "      <td>-7.574798</td>\n",
              "      <td>-12.968670</td>\n",
              "      <td>-23.632502</td>\n",
              "      <td>-3.878658</td>\n",
              "      <td>-7.454841</td>\n",
              "      <td>-2.595325</td>\n",
              "      <td>-10.912819</td>\n",
              "      <td>-3.389510</td>\n",
              "      <td>-11.736729</td>\n",
              "      <td>-4.152532</td>\n",
              "      <td>-7.552342</td>\n",
              "      <td>-12.598419</td>\n",
              "      <td>-5.131549</td>\n",
              "      <td>-4.932733</td>\n",
              "      <td>-13.276034</td>\n",
              "      <td>-11.468435</td>\n",
              "      <td>-8.527145</td>\n",
              "      <td>-15.144340</td>\n",
              "      <td>-2.512377</td>\n",
              "      <td>-2.577363</td>\n",
              "      <td>-1.338556</td>\n",
              "      <td>-7.976100</td>\n",
              "      <td>-3.054085</td>\n",
              "      <td>0.000000</td>\n",
              "      <td>0.000000</td>\n",
              "    </tr>\n",
              "    <tr>\n",
              "      <th>25%</th>\n",
              "      <td>1531.000000</td>\n",
              "      <td>-1.046362</td>\n",
              "      <td>-0.237359</td>\n",
              "      <td>0.372435</td>\n",
              "      <td>-0.687521</td>\n",
              "      <td>-0.630525</td>\n",
              "      <td>-0.655399</td>\n",
              "      <td>-0.517733</td>\n",
              "      <td>-0.199794</td>\n",
              "      <td>-0.085635</td>\n",
              "      <td>-0.673111</td>\n",
              "      <td>-0.165456</td>\n",
              "      <td>-2.273429</td>\n",
              "      <td>-0.212730</td>\n",
              "      <td>-0.050796</td>\n",
              "      <td>-0.654293</td>\n",
              "      <td>-0.547605</td>\n",
              "      <td>-0.257929</td>\n",
              "      <td>-0.506580</td>\n",
              "      <td>-0.548056</td>\n",
              "      <td>-0.147399</td>\n",
              "      <td>-0.271837</td>\n",
              "      <td>-0.581473</td>\n",
              "      <td>-0.182989</td>\n",
              "      <td>-0.340419</td>\n",
              "      <td>-0.161009</td>\n",
              "      <td>-0.363180</td>\n",
              "      <td>-0.063198</td>\n",
              "      <td>-0.019081</td>\n",
              "      <td>4.617500</td>\n",
              "      <td>0.000000</td>\n",
              "    </tr>\n",
              "    <tr>\n",
              "      <th>50%</th>\n",
              "      <td>3635.000000</td>\n",
              "      <td>-0.416341</td>\n",
              "      <td>0.335446</td>\n",
              "      <td>0.948695</td>\n",
              "      <td>0.223379</td>\n",
              "      <td>-0.107337</td>\n",
              "      <td>-0.148669</td>\n",
              "      <td>0.004732</td>\n",
              "      <td>0.016128</td>\n",
              "      <td>0.613170</td>\n",
              "      <td>-0.258630</td>\n",
              "      <td>0.623438</td>\n",
              "      <td>-1.042323</td>\n",
              "      <td>0.710567</td>\n",
              "      <td>0.565118</td>\n",
              "      <td>0.057160</td>\n",
              "      <td>0.023556</td>\n",
              "      <td>0.237956</td>\n",
              "      <td>-0.027308</td>\n",
              "      <td>-0.051841</td>\n",
              "      <td>-0.007344</td>\n",
              "      <td>-0.130344</td>\n",
              "      <td>-0.167048</td>\n",
              "      <td>-0.046107</td>\n",
              "      <td>0.089606</td>\n",
              "      <td>0.115418</td>\n",
              "      <td>-0.015260</td>\n",
              "      <td>0.007101</td>\n",
              "      <td>0.018443</td>\n",
              "      <td>15.950000</td>\n",
              "      <td>0.000000</td>\n",
              "    </tr>\n",
              "    <tr>\n",
              "      <th>75%</th>\n",
              "      <td>6662.000000</td>\n",
              "      <td>1.122758</td>\n",
              "      <td>0.950582</td>\n",
              "      <td>1.597949</td>\n",
              "      <td>1.131542</td>\n",
              "      <td>0.405082</td>\n",
              "      <td>0.555200</td>\n",
              "      <td>0.527353</td>\n",
              "      <td>0.307111</td>\n",
              "      <td>1.294087</td>\n",
              "      <td>0.243533</td>\n",
              "      <td>1.416838</td>\n",
              "      <td>0.303311</td>\n",
              "      <td>1.638147</td>\n",
              "      <td>1.400274</td>\n",
              "      <td>0.596297</td>\n",
              "      <td>0.517720</td>\n",
              "      <td>0.751774</td>\n",
              "      <td>0.416734</td>\n",
              "      <td>0.468180</td>\n",
              "      <td>0.173362</td>\n",
              "      <td>0.044823</td>\n",
              "      <td>0.250886</td>\n",
              "      <td>0.086806</td>\n",
              "      <td>0.421015</td>\n",
              "      <td>0.361249</td>\n",
              "      <td>0.329322</td>\n",
              "      <td>0.144700</td>\n",
              "      <td>0.080563</td>\n",
              "      <td>54.910000</td>\n",
              "      <td>0.000000</td>\n",
              "    </tr>\n",
              "    <tr>\n",
              "      <th>max</th>\n",
              "      <td>10981.000000</td>\n",
              "      <td>1.685314</td>\n",
              "      <td>8.261750</td>\n",
              "      <td>4.101716</td>\n",
              "      <td>7.380245</td>\n",
              "      <td>11.974269</td>\n",
              "      <td>21.393069</td>\n",
              "      <td>34.303177</td>\n",
              "      <td>3.877662</td>\n",
              "      <td>10.392889</td>\n",
              "      <td>12.259949</td>\n",
              "      <td>7.620089</td>\n",
              "      <td>3.774837</td>\n",
              "      <td>4.465413</td>\n",
              "      <td>5.748734</td>\n",
              "      <td>3.635042</td>\n",
              "      <td>4.087802</td>\n",
              "      <td>6.739384</td>\n",
              "      <td>3.042493</td>\n",
              "      <td>3.097749</td>\n",
              "      <td>8.012574</td>\n",
              "      <td>22.588989</td>\n",
              "      <td>4.534454</td>\n",
              "      <td>13.876221</td>\n",
              "      <td>3.200201</td>\n",
              "      <td>5.525093</td>\n",
              "      <td>3.517346</td>\n",
              "      <td>4.173387</td>\n",
              "      <td>4.860769</td>\n",
              "      <td>7712.430000</td>\n",
              "      <td>1.000000</td>\n",
              "    </tr>\n",
              "  </tbody>\n",
              "</table>\n",
              "</div>"
            ],
            "text/plain": [
              "               Time           V1  ...       Amount        Class\n",
              "count   7973.000000  7973.000000  ...  7972.000000  7972.000000\n",
              "mean    4257.151261    -0.299740  ...    65.413540     0.003136\n",
              "std     3198.964299     1.498341  ...   194.911169     0.055915\n",
              "min        0.000000   -23.066842  ...     0.000000     0.000000\n",
              "25%     1531.000000    -1.046362  ...     4.617500     0.000000\n",
              "50%     3635.000000    -0.416341  ...    15.950000     0.000000\n",
              "75%     6662.000000     1.122758  ...    54.910000     0.000000\n",
              "max    10981.000000     1.685314  ...  7712.430000     1.000000\n",
              "\n",
              "[8 rows x 31 columns]"
            ]
          },
          "metadata": {},
          "execution_count": 45
        }
      ]
    },
    {
      "cell_type": "markdown",
      "metadata": {
        "id": "Q8IbWxM9i5m1"
      },
      "source": [
        "#Data Visualisation"
      ]
    },
    {
      "cell_type": "code",
      "metadata": {
        "id": "LHyo1G7j9JEH"
      },
      "source": [
        "Positives=W_Data[W_Data['Class']==1]\n",
        "Negatives=W_Data[W_Data['Class']==0]"
      ],
      "execution_count": 46,
      "outputs": []
    },
    {
      "cell_type": "code",
      "metadata": {
        "colab": {
          "base_uri": "https://localhost:8080/",
          "height": 312
        },
        "id": "zL9NMISYX6gG",
        "outputId": "b1825d33-522b-4dcc-e863-c68d1bc000d0"
      },
      "source": [
        "class_count = pd.value_counts(Data['Class'], sort = True).sort_index()\n",
        "sns.countplot(x=\"Class\", data=Data)\n",
        "plt.title(\"Class Count\")\n",
        "plt.xlabel(\"Class\")\n",
        "plt.ylabel(\"Frequency\")"
      ],
      "execution_count": 47,
      "outputs": [
        {
          "output_type": "execute_result",
          "data": {
            "text/plain": [
              "Text(0, 0.5, 'Frequency')"
            ]
          },
          "metadata": {},
          "execution_count": 47
        },
        {
          "output_type": "display_data",
          "data": {
            "image/png": "[encoded data removed]",
            "text/plain": [
              "<Figure size 432x288 with 1 Axes>"
            ]
          },
          "metadata": {
            "needs_background": "light"
          }
        }
      ]
    },
    {
      "cell_type": "code",
      "metadata": {
        "colab": {
          "base_uri": "https://localhost:8080/"
        },
        "id": "OUsPok_f9KE_",
        "outputId": "369b723a-88b1-4d3e-d2b0-5c4d6d1cbf51"
      },
      "source": [
        "print((len(Positives)/len(W_Data))*100,\"%\")"
      ],
      "execution_count": 48,
      "outputs": [
        {
          "output_type": "stream",
          "name": "stdout",
          "text": [
            "0.3135582591245453 %\n"
          ]
        }
      ]
    },
    {
      "cell_type": "code",
      "metadata": {
        "id": "oQS_n7LkYRUY"
      },
      "source": [
        "fraud = Data[Data.Class == 1]\n",
        "normal = Data[Data.Class == 0]"
      ],
      "execution_count": 49,
      "outputs": []
    },
    {
      "cell_type": "code",
      "metadata": {
        "id": "JpE6pCme-UnI",
        "colab": {
          "base_uri": "https://localhost:8080/",
          "height": 366
        },
        "outputId": "1f9c268a-87a3-4843-9649-60eae08eb6c9"
      },
      "source": [
        "sns.distplot(normal.Time, color='g')\n",
        "plt.title(\"Time feature distribution over Normal Transaction\")\n",
        "plt.xlabel(\"Time\")\n",
        "plt.ylabel(\"Frequency\")"
      ],
      "execution_count": 50,
      "outputs": [
        {
          "output_type": "stream",
          "name": "stderr",
          "text": [
            "/usr/local/lib/python3.7/dist-packages/seaborn/distributions.py:2619: FutureWarning: `distplot` is a deprecated function and will be removed in a future version. Please adapt your code to use either `displot` (a figure-level function with similar flexibility) or `histplot` (an axes-level function for histograms).\n",
            "  warnings.warn(msg, FutureWarning)\n"
          ]
        },
        {
          "output_type": "execute_result",
          "data": {
            "text/plain": [
              "Text(0, 0.5, 'Frequency')"
            ]
          },
          "metadata": {},
          "execution_count": 50
        },
        {
          "output_type": "display_data",
          "data": {
            "image/png": "[encoded data removed]",
            "text/plain": [
              "<Figure size 432x288 with 1 Axes>"
            ]
          },
          "metadata": {
            "needs_background": "light"
          }
        }
      ]
    },
    {
      "cell_type": "code",
      "metadata": {
        "colab": {
          "base_uri": "https://localhost:8080/",
          "height": 366
        },
        "id": "S95DcBXdY3cP",
        "outputId": "58626b65-1a5d-4db2-e8b5-921324124d4a"
      },
      "source": [
        "sns.distplot(fraud.Time, color='r')\n",
        "plt.title(\"Time feature distribution over Fraud Transaction\")\n",
        "plt.xlabel(\"Time\")\n",
        "plt.ylabel(\"Frequency\")"
      ],
      "execution_count": 51,
      "outputs": [
        {
          "output_type": "stream",
          "name": "stderr",
          "text": [
            "/usr/local/lib/python3.7/dist-packages/seaborn/distributions.py:2619: FutureWarning: `distplot` is a deprecated function and will be removed in a future version. Please adapt your code to use either `displot` (a figure-level function with similar flexibility) or `histplot` (an axes-level function for histograms).\n",
            "  warnings.warn(msg, FutureWarning)\n"
          ]
        },
        {
          "output_type": "execute_result",
          "data": {
            "text/plain": [
              "Text(0, 0.5, 'Frequency')"
            ]
          },
          "metadata": {},
          "execution_count": 51
        },
        {
          "output_type": "display_data",
          "data": {
            "image/png": "[encoded data removed]",
            "text/plain": [
              "<Figure size 432x288 with 1 Axes>"
            ]
          },
          "metadata": {
            "needs_background": "light"
          }
        }
      ]
    },
    {
      "cell_type": "code",
      "metadata": {
        "colab": {
          "base_uri": "https://localhost:8080/",
          "height": 366
        },
        "id": "FV7w47vOY9il",
        "outputId": "20b4803f-8070-4e9b-9710-3d21a3a77df2"
      },
      "source": [
        "sns.distplot(normal.Amount, color='g')\n",
        "plt.title(\"Amount feature distribution over Normal Transaction\")\n",
        "plt.xlabel(\"Amount\")\n",
        "plt.ylabel(\"Frequency\")"
      ],
      "execution_count": 52,
      "outputs": [
        {
          "output_type": "stream",
          "name": "stderr",
          "text": [
            "/usr/local/lib/python3.7/dist-packages/seaborn/distributions.py:2619: FutureWarning: `distplot` is a deprecated function and will be removed in a future version. Please adapt your code to use either `displot` (a figure-level function with similar flexibility) or `histplot` (an axes-level function for histograms).\n",
            "  warnings.warn(msg, FutureWarning)\n"
          ]
        },
        {
          "output_type": "execute_result",
          "data": {
            "text/plain": [
              "Text(0, 0.5, 'Frequency')"
            ]
          },
          "metadata": {},
          "execution_count": 52
        },
        {
          "output_type": "display_data",
          "data": {
            "image/png": "[encoded data removed]",
            "text/plain": [
              "<Figure size 432x288 with 1 Axes>"
            ]
          },
          "metadata": {
            "needs_background": "light"
          }
        }
      ]
    },
    {
      "cell_type": "code",
      "metadata": {
        "colab": {
          "base_uri": "https://localhost:8080/",
          "height": 366
        },
        "id": "3O7hNVjpZC4o",
        "outputId": "69ed6a5e-7d32-4add-a818-e1e76d3b9ccb"
      },
      "source": [
        "sns.distplot(fraud.Amount, color='g')\n",
        "plt.title(\"Amount feature distribution over Fraud Transaction\")\n",
        "plt.xlabel(\"Amount\")\n",
        "plt.ylabel(\"Frequency\")"
      ],
      "execution_count": 53,
      "outputs": [
        {
          "output_type": "stream",
          "name": "stderr",
          "text": [
            "/usr/local/lib/python3.7/dist-packages/seaborn/distributions.py:2619: FutureWarning: `distplot` is a deprecated function and will be removed in a future version. Please adapt your code to use either `displot` (a figure-level function with similar flexibility) or `histplot` (an axes-level function for histograms).\n",
            "  warnings.warn(msg, FutureWarning)\n"
          ]
        },
        {
          "output_type": "execute_result",
          "data": {
            "text/plain": [
              "Text(0, 0.5, 'Frequency')"
            ]
          },
          "metadata": {},
          "execution_count": 53
        },
        {
          "output_type": "display_data",
          "data": {
            "image/png": "[encoded data removed]",
            "text/plain": [
              "<Figure size 432x288 with 1 Axes>"
            ]
          },
          "metadata": {
            "needs_background": "light"
          }
        }
      ]
    },
    {
      "cell_type": "code",
      "metadata": {
        "colab": {
          "base_uri": "https://localhost:8080/",
          "height": 308
        },
        "id": "ryKdEPMEZT21",
        "outputId": "41819982-c4fb-4f02-cb35-eff2986700a9"
      },
      "source": [
        "f, (ax1, ax2) = plt.subplots(2, 1, sharex=True)\n",
        "f.suptitle('Amount per transaction by class')\n",
        "bins = 50\n",
        "\n",
        "ax1.hist(fraud.Amount, bins = bins)\n",
        "ax1.set_title('Fraud')\n",
        "ax1.grid(color='k', linestyle='-', linewidth=0.1)\n",
        "\n",
        "ax2.hist(normal.Amount, bins = bins)\n",
        "ax2.set_title('Normal')\n",
        "ax2.grid(color='k', linestyle='-', linewidth=0.1)\n",
        "\n",
        "plt.xlabel('Amount ($)')\n",
        "plt.ylabel('Number of Transactions')\n",
        "plt.xlim((0, 20000))\n",
        "plt.yscale('log')\n",
        "plt.show()"
      ],
      "execution_count": 54,
      "outputs": [
        {
          "output_type": "display_data",
          "data": {
            "image/png": "[encoded data removed]",
            "text/plain": [
              "<Figure size 432x288 with 2 Axes>"
            ]
          },
          "metadata": {
            "needs_background": "light"
          }
        }
      ]
    },
    {
      "cell_type": "code",
      "metadata": {
        "colab": {
          "base_uri": "https://localhost:8080/",
          "height": 308
        },
        "id": "9shRasLqZcnd",
        "outputId": "595b96a7-2177-4fb5-98fb-35f7fa815b71"
      },
      "source": [
        "f, (ax1, ax2) = plt.subplots(2, 1, sharex=True)\n",
        "f.suptitle('Time of transaction vs Amount by class')\n",
        "\n",
        "ax1.scatter(fraud.Time, fraud.Amount)\n",
        "ax1.set_title('Fraud')\n",
        "ax1.grid(color='k', linestyle='-', linewidth=0.1)\n",
        "\n",
        "\n",
        "ax2.scatter(normal.Time, normal.Amount)\n",
        "ax2.set_title('Normal')\n",
        "ax2.grid(color='k', linestyle='-', linewidth=0.1)\n",
        "\n",
        "\n",
        "plt.xlabel('Time (in Seconds)')\n",
        "plt.ylabel('Amount')\n",
        "plt.show()"
      ],
      "execution_count": 55,
      "outputs": [
        {
          "output_type": "display_data",
          "data": {
            "image/png": "[encoded data removed]",
            "text/plain": [
              "<Figure size 432x288 with 2 Axes>"
            ]
          },
          "metadata": {
            "needs_background": "light"
          }
        }
      ]
    },
    {
      "cell_type": "markdown",
      "metadata": {
        "id": "ylx31787Zfe1"
      },
      "source": [
        "#Data Scaling"
      ]
    },
    {
      "cell_type": "code",
      "metadata": {
        "colab": {
          "base_uri": "https://localhost:8080/",
          "height": 223
        },
        "id": "ZjtsITy8ZivZ",
        "outputId": "6efd9aca-e5ea-4c80-ac7c-739a78806b0d"
      },
      "source": [
        "from sklearn.preprocessing import StandardScaler\n",
        "model_data = Data.drop(['Time'], axis=1)\n",
        "model_data['Amount'] = StandardScaler().fit_transform(Data['Amount'].values.reshape(-1, 1))\n",
        "model_data.head()"
      ],
      "execution_count": 56,
      "outputs": [
        {
          "output_type": "execute_result",
          "data": {
            "text/html": [
              "<div>\n",
              "<style scoped>\n",
              "    .dataframe tbody tr th:only-of-type {\n",
              "        vertical-align: middle;\n",
              "    }\n",
              "\n",
              "    .dataframe tbody tr th {\n",
              "        vertical-align: top;\n",
              "    }\n",
              "\n",
              "    .dataframe thead th {\n",
              "        text-align: right;\n",
              "    }\n",
              "</style>\n",
              "<table border=\"1\" class=\"dataframe\">\n",
              "  <thead>\n",
              "    <tr style=\"text-align: right;\">\n",
              "      <th></th>\n",
              "      <th>V1</th>\n",
              "      <th>V2</th>\n",
              "      <th>V3</th>\n",
              "      <th>V4</th>\n",
              "      <th>V5</th>\n",
              "      <th>V6</th>\n",
              "      <th>V7</th>\n",
              "      <th>V8</th>\n",
              "      <th>V9</th>\n",
              "      <th>V10</th>\n",
              "      <th>V11</th>\n",
              "      <th>V12</th>\n",
              "      <th>V13</th>\n",
              "      <th>V14</th>\n",
              "      <th>V15</th>\n",
              "      <th>V16</th>\n",
              "      <th>V17</th>\n",
              "      <th>V18</th>\n",
              "      <th>V19</th>\n",
              "      <th>V20</th>\n",
              "      <th>V21</th>\n",
              "      <th>V22</th>\n",
              "      <th>V23</th>\n",
              "      <th>V24</th>\n",
              "      <th>V25</th>\n",
              "      <th>V26</th>\n",
              "      <th>V27</th>\n",
              "      <th>V28</th>\n",
              "      <th>Amount</th>\n",
              "      <th>Class</th>\n",
              "    </tr>\n",
              "  </thead>\n",
              "  <tbody>\n",
              "    <tr>\n",
              "      <th>0</th>\n",
              "      <td>-1.359807</td>\n",
              "      <td>-0.072781</td>\n",
              "      <td>2.536347</td>\n",
              "      <td>1.378155</td>\n",
              "      <td>-0.338321</td>\n",
              "      <td>0.462388</td>\n",
              "      <td>0.239599</td>\n",
              "      <td>0.098698</td>\n",
              "      <td>0.363787</td>\n",
              "      <td>0.090794</td>\n",
              "      <td>-0.551600</td>\n",
              "      <td>-0.617801</td>\n",
              "      <td>-0.991390</td>\n",
              "      <td>-0.311169</td>\n",
              "      <td>1.468177</td>\n",
              "      <td>-0.470401</td>\n",
              "      <td>0.207971</td>\n",
              "      <td>0.025791</td>\n",
              "      <td>0.403993</td>\n",
              "      <td>0.251412</td>\n",
              "      <td>-0.018307</td>\n",
              "      <td>0.277838</td>\n",
              "      <td>-0.110474</td>\n",
              "      <td>0.066928</td>\n",
              "      <td>0.128539</td>\n",
              "      <td>-0.189115</td>\n",
              "      <td>0.133558</td>\n",
              "      <td>-0.021053</td>\n",
              "      <td>0.432052</td>\n",
              "      <td>0.0</td>\n",
              "    </tr>\n",
              "    <tr>\n",
              "      <th>1</th>\n",
              "      <td>1.191857</td>\n",
              "      <td>0.266151</td>\n",
              "      <td>0.166480</td>\n",
              "      <td>0.448154</td>\n",
              "      <td>0.060018</td>\n",
              "      <td>-0.082361</td>\n",
              "      <td>-0.078803</td>\n",
              "      <td>0.085102</td>\n",
              "      <td>-0.255425</td>\n",
              "      <td>-0.166974</td>\n",
              "      <td>1.612727</td>\n",
              "      <td>1.065235</td>\n",
              "      <td>0.489095</td>\n",
              "      <td>-0.143772</td>\n",
              "      <td>0.635558</td>\n",
              "      <td>0.463917</td>\n",
              "      <td>-0.114805</td>\n",
              "      <td>-0.183361</td>\n",
              "      <td>-0.145783</td>\n",
              "      <td>-0.069083</td>\n",
              "      <td>-0.225775</td>\n",
              "      <td>-0.638672</td>\n",
              "      <td>0.101288</td>\n",
              "      <td>-0.339846</td>\n",
              "      <td>0.167170</td>\n",
              "      <td>0.125895</td>\n",
              "      <td>-0.008983</td>\n",
              "      <td>0.014724</td>\n",
              "      <td>-0.321826</td>\n",
              "      <td>0.0</td>\n",
              "    </tr>\n",
              "    <tr>\n",
              "      <th>2</th>\n",
              "      <td>-1.358354</td>\n",
              "      <td>-1.340163</td>\n",
              "      <td>1.773209</td>\n",
              "      <td>0.379780</td>\n",
              "      <td>-0.503198</td>\n",
              "      <td>1.800499</td>\n",
              "      <td>0.791461</td>\n",
              "      <td>0.247676</td>\n",
              "      <td>-1.514654</td>\n",
              "      <td>0.207643</td>\n",
              "      <td>0.624501</td>\n",
              "      <td>0.066084</td>\n",
              "      <td>0.717293</td>\n",
              "      <td>-0.165946</td>\n",
              "      <td>2.345865</td>\n",
              "      <td>-2.890083</td>\n",
              "      <td>1.109969</td>\n",
              "      <td>-0.121359</td>\n",
              "      <td>-2.261857</td>\n",
              "      <td>0.524980</td>\n",
              "      <td>0.247998</td>\n",
              "      <td>0.771679</td>\n",
              "      <td>0.909412</td>\n",
              "      <td>-0.689281</td>\n",
              "      <td>-0.327642</td>\n",
              "      <td>-0.139097</td>\n",
              "      <td>-0.055353</td>\n",
              "      <td>-0.059752</td>\n",
              "      <td>1.607225</td>\n",
              "      <td>0.0</td>\n",
              "    </tr>\n",
              "    <tr>\n",
              "      <th>3</th>\n",
              "      <td>-0.966272</td>\n",
              "      <td>-0.185226</td>\n",
              "      <td>1.792993</td>\n",
              "      <td>-0.863291</td>\n",
              "      <td>-0.010309</td>\n",
              "      <td>1.247203</td>\n",
              "      <td>0.237609</td>\n",
              "      <td>0.377436</td>\n",
              "      <td>-1.387024</td>\n",
              "      <td>-0.054952</td>\n",
              "      <td>-0.226487</td>\n",
              "      <td>0.178228</td>\n",
              "      <td>0.507757</td>\n",
              "      <td>-0.287924</td>\n",
              "      <td>-0.631418</td>\n",
              "      <td>-1.059647</td>\n",
              "      <td>-0.684093</td>\n",
              "      <td>1.965775</td>\n",
              "      <td>-1.232622</td>\n",
              "      <td>-0.208038</td>\n",
              "      <td>-0.108300</td>\n",
              "      <td>0.005274</td>\n",
              "      <td>-0.190321</td>\n",
              "      <td>-1.175575</td>\n",
              "      <td>0.647376</td>\n",
              "      <td>-0.221929</td>\n",
              "      <td>0.062723</td>\n",
              "      <td>0.061458</td>\n",
              "      <td>0.298034</td>\n",
              "      <td>0.0</td>\n",
              "    </tr>\n",
              "    <tr>\n",
              "      <th>4</th>\n",
              "      <td>-1.158233</td>\n",
              "      <td>0.877737</td>\n",
              "      <td>1.548718</td>\n",
              "      <td>0.403034</td>\n",
              "      <td>-0.407193</td>\n",
              "      <td>0.095921</td>\n",
              "      <td>0.592941</td>\n",
              "      <td>-0.270533</td>\n",
              "      <td>0.817739</td>\n",
              "      <td>0.753074</td>\n",
              "      <td>-0.822843</td>\n",
              "      <td>0.538196</td>\n",
              "      <td>1.345852</td>\n",
              "      <td>-1.119670</td>\n",
              "      <td>0.175121</td>\n",
              "      <td>-0.451449</td>\n",
              "      <td>-0.237033</td>\n",
              "      <td>-0.038195</td>\n",
              "      <td>0.803487</td>\n",
              "      <td>0.408542</td>\n",
              "      <td>-0.009431</td>\n",
              "      <td>0.798278</td>\n",
              "      <td>-0.137458</td>\n",
              "      <td>0.141267</td>\n",
              "      <td>-0.206010</td>\n",
              "      <td>0.502292</td>\n",
              "      <td>0.219422</td>\n",
              "      <td>0.215153</td>\n",
              "      <td>0.023481</td>\n",
              "      <td>0.0</td>\n",
              "    </tr>\n",
              "  </tbody>\n",
              "</table>\n",
              "</div>"
            ],
            "text/plain": [
              "         V1        V2        V3        V4  ...       V27       V28    Amount  Class\n",
              "0 -1.359807 -0.072781  2.536347  1.378155  ...  0.133558 -0.021053  0.432052    0.0\n",
              "1  1.191857  0.266151  0.166480  0.448154  ... -0.008983  0.014724 -0.321826    0.0\n",
              "2 -1.358354 -1.340163  1.773209  0.379780  ... -0.055353 -0.059752  1.607225    0.0\n",
              "3 -0.966272 -0.185226  1.792993 -0.863291  ...  0.062723  0.061458  0.298034    0.0\n",
              "4 -1.158233  0.877737  1.548718  0.403034  ...  0.219422  0.215153  0.023481    0.0\n",
              "\n",
              "[5 rows x 30 columns]"
            ]
          },
          "metadata": {},
          "execution_count": 56
        }
      ]
    },
    {
      "cell_type": "code",
      "metadata": {
        "colab": {
          "base_uri": "https://localhost:8080/"
        },
        "id": "Uuzk6j_5eNJ6",
        "outputId": "8d1b0fa9-3504-47ae-9cb3-f28421ab37c4"
      },
      "source": [
        "model_data.isnull().sum()"
      ],
      "execution_count": 57,
      "outputs": [
        {
          "output_type": "execute_result",
          "data": {
            "text/plain": [
              "V1        0\n",
              "V2        0\n",
              "V3        0\n",
              "V4        0\n",
              "V5        0\n",
              "V6        0\n",
              "V7        0\n",
              "V8        0\n",
              "V9        0\n",
              "V10       0\n",
              "V11       0\n",
              "V12       0\n",
              "V13       0\n",
              "V14       0\n",
              "V15       1\n",
              "V16       1\n",
              "V17       1\n",
              "V18       1\n",
              "V19       1\n",
              "V20       1\n",
              "V21       1\n",
              "V22       1\n",
              "V23       1\n",
              "V24       1\n",
              "V25       1\n",
              "V26       1\n",
              "V27       1\n",
              "V28       1\n",
              "Amount    1\n",
              "Class     1\n",
              "dtype: int64"
            ]
          },
          "metadata": {},
          "execution_count": 57
        }
      ]
    },
    {
      "cell_type": "code",
      "metadata": {
        "id": "beTMXJpVeRaQ"
      },
      "source": [
        "model_data.dropna(inplace=True)"
      ],
      "execution_count": 58,
      "outputs": []
    },
    {
      "cell_type": "code",
      "metadata": {
        "colab": {
          "base_uri": "https://localhost:8080/"
        },
        "id": "YaXo-PqMeZuA",
        "outputId": "48db4b61-5f20-4468-eb25-68ffb45d1128"
      },
      "source": [
        "model_data.isnull().sum()"
      ],
      "execution_count": 59,
      "outputs": [
        {
          "output_type": "execute_result",
          "data": {
            "text/plain": [
              "V1        0\n",
              "V2        0\n",
              "V3        0\n",
              "V4        0\n",
              "V5        0\n",
              "V6        0\n",
              "V7        0\n",
              "V8        0\n",
              "V9        0\n",
              "V10       0\n",
              "V11       0\n",
              "V12       0\n",
              "V13       0\n",
              "V14       0\n",
              "V15       0\n",
              "V16       0\n",
              "V17       0\n",
              "V18       0\n",
              "V19       0\n",
              "V20       0\n",
              "V21       0\n",
              "V22       0\n",
              "V23       0\n",
              "V24       0\n",
              "V25       0\n",
              "V26       0\n",
              "V27       0\n",
              "V28       0\n",
              "Amount    0\n",
              "Class     0\n",
              "dtype: int64"
            ]
          },
          "metadata": {},
          "execution_count": 59
        }
      ]
    },
    {
      "cell_type": "markdown",
      "metadata": {
        "id": "E9FzFKQGZ5Z4"
      },
      "source": [
        "Splitting data into features and labels"
      ]
    },
    {
      "cell_type": "code",
      "metadata": {
        "id": "RwEuTLI-Z3Yr"
      },
      "source": [
        "model_train = model_data.drop(\"Class\", 1).values\n",
        "model_test = model_data[\"Class\"].values"
      ],
      "execution_count": 60,
      "outputs": []
    },
    {
      "cell_type": "markdown",
      "metadata": {
        "id": "8vZdhOd9aRT8"
      },
      "source": [
        "downsampling using SMOTE"
      ]
    },
    {
      "cell_type": "code",
      "metadata": {
        "id": "MpWlzI1oaOEg"
      },
      "source": [
        "from imblearn.over_sampling import SMOTE\n",
        "#from imblearn.combine import SMOTETomek\n",
        "\n",
        "oversampler = SMOTE(random_state = 0, n_jobs = -1)\n",
        "#sampler = SMOTETomek(random_state = 0)\n",
        "model_train_lr , model_test_lr = oversampler.fit_resample(model_train, model_test)"
      ],
      "execution_count": 61,
      "outputs": []
    },
    {
      "cell_type": "markdown",
      "metadata": {
        "id": "LnXipofJizbL"
      },
      "source": [
        "#Train Test Split"
      ]
    },
    {
      "cell_type": "code",
      "metadata": {
        "id": "tatjjgCp-u4e"
      },
      "source": [
        "#Train Test Split\n",
        "from sklearn.model_selection import train_test_split\n",
        "X_train, X_test, Y_train, Y_test = train_test_split(model_train_lr, model_test_lr, test_size = 0.25, random_state = 0)"
      ],
      "execution_count": 62,
      "outputs": []
    },
    {
      "cell_type": "markdown",
      "metadata": {
        "id": "Z-I0aEKYa45G"
      },
      "source": [
        "#Logistic Regression"
      ]
    },
    {
      "cell_type": "code",
      "metadata": {
        "id": "5QI3cRWna9fK"
      },
      "source": [
        "from sklearn.linear_model import LogisticRegression\n",
        "lr = LogisticRegression(max_iter=200, random_state=0, n_jobs = -1)\n",
        "lr.fit(X_train, Y_train)\n",
        "lr_predict = lr.predict(X_test)"
      ],
      "execution_count": 63,
      "outputs": []
    },
    {
      "cell_type": "code",
      "metadata": {
        "colab": {
          "base_uri": "https://localhost:8080/",
          "height": 343
        },
        "id": "a0eKjEBfbCLs",
        "outputId": "aeb9f463-e613-4d87-94e6-dcb6cb8ab1ff"
      },
      "source": [
        "from sklearn.metrics import accuracy_score, recall_score, confusion_matrix,roc_auc_score\n",
        "import seaborn as sns\n",
        "from matplotlib import pyplot\n",
        "\n",
        "lr_accuracy = accuracy_score(Y_test, lr_predict)\n",
        "lr_recall = recall_score(Y_test, lr_predict)\n",
        "lr_cm = confusion_matrix(Y_test, lr_predict)\n",
        "lr_auc = roc_auc_score(Y_test, lr_predict)\n",
        "\n",
        "print(\"Accuracy: {:.4%}\".format(lr_accuracy))\n",
        "print(\"Recall: {:.4%}\".format(lr_recall))\n",
        "print(\"ROC AUC: {:.4%}\".format(lr_auc))\n",
        "\n",
        "lr_cm = pd.DataFrame(lr_cm, ['True Normal','True Fraud'],['Prediction Normal','Prediction Fraud'])\n",
        "pyplot.figure(figsize = (8,4))\n",
        "sns.set(font_scale=1.4)\n",
        "sns.heatmap(lr_cm, annot=True,annot_kws={\"size\": 16},fmt='g')"
      ],
      "execution_count": 64,
      "outputs": [
        {
          "output_type": "stream",
          "name": "stdout",
          "text": [
            "Accuracy: 99.9497%\n",
            "Recall: 100.0000%\n",
            "ROC AUC: 99.9487%\n"
          ]
        },
        {
          "output_type": "execute_result",
          "data": {
            "text/plain": [
              "<matplotlib.axes._subplots.AxesSubplot at 0x7fa90b71cf10>"
            ]
          },
          "metadata": {},
          "execution_count": 64
        },
        {
          "output_type": "display_data",
          "data": {
            "image/png": "[encoded data removed]",
            "text/plain": [
              "<Figure size 576x288 with 2 Axes>"
            ]
          },
          "metadata": {
            "needs_background": "light"
          }
        }
      ]
    },
    {
      "cell_type": "markdown",
      "metadata": {
        "id": "stpiTRTSbiX1"
      },
      "source": [
        "#Support Vector Classifier"
      ]
    },
    {
      "cell_type": "code",
      "metadata": {
        "id": "UljThRuv-yso",
        "colab": {
          "base_uri": "https://localhost:8080/"
        },
        "outputId": "4b02c2fa-ff5c-4ad7-d731-c9e6e785f100"
      },
      "source": [
        "clf_l=svm.SVC(kernel='linear')\n",
        "clf_l.fit(X_train,Y_train)\n",
        "print(classification_report(Y_test,clf_l.predict(X_test)))"
      ],
      "execution_count": 65,
      "outputs": [
        {
          "output_type": "stream",
          "name": "stdout",
          "text": [
            "              precision    recall  f1-score   support\n",
            "\n",
            "         0.0       1.00      1.00      1.00      1951\n",
            "         1.0       1.00      1.00      1.00      2023\n",
            "\n",
            "    accuracy                           1.00      3974\n",
            "   macro avg       1.00      1.00      1.00      3974\n",
            "weighted avg       1.00      1.00      1.00      3974\n",
            "\n"
          ]
        }
      ]
    },
    {
      "cell_type": "markdown",
      "metadata": {
        "id": "4fyO9Tu2bpV5"
      },
      "source": [
        "#Random Forest Classifier"
      ]
    },
    {
      "cell_type": "code",
      "metadata": {
        "id": "A6LM8CoE-8u_"
      },
      "source": [
        "from sklearn.ensemble import RandomForestClassifier\n",
        "rf = RandomForestClassifier(n_estimators= 200, criterion = 'entropy', random_state = 0, n_jobs = -1)\n",
        "rf.fit(X_train, Y_train)\n",
        "rf_predict = rf.predict(X_test)"
      ],
      "execution_count": 66,
      "outputs": []
    },
    {
      "cell_type": "code",
      "metadata": {
        "id": "KHLlvdKlUcpO",
        "colab": {
          "base_uri": "https://localhost:8080/",
          "height": 343
        },
        "outputId": "486e0209-a42a-4588-9413-da02ef4584e2"
      },
      "source": [
        "rf_accuracy = accuracy_score(Y_test, rf_predict)\n",
        "rf_recall = recall_score(Y_test, rf_predict)\n",
        "rf_cm = confusion_matrix(Y_test, rf_predict)\n",
        "rf_auc = roc_auc_score(Y_test, rf_predict)\n",
        "\n",
        "print(\"Accuracy: {:.4%}\".format(rf_accuracy))\n",
        "print(\"Recall: {:.4%}\".format(rf_recall))\n",
        "print(\"ROC AUC: {:.4%}\".format(rf_auc))\n",
        "\n",
        "rf_cm = pd.DataFrame(rf_cm, ['True Normal','True Fraud'],['Prediction Normal','Prediction Fraud'])\n",
        "pyplot.figure(figsize = (8,4))\n",
        "sns.set(font_scale=1.4)\n",
        "sns.heatmap(rf_cm, annot=True,annot_kws={\"size\": 16},fmt='g')"
      ],
      "execution_count": 67,
      "outputs": [
        {
          "output_type": "stream",
          "name": "stdout",
          "text": [
            "Accuracy: 100.0000%\n",
            "Recall: 100.0000%\n",
            "ROC AUC: 100.0000%\n"
          ]
        },
        {
          "output_type": "execute_result",
          "data": {
            "text/plain": [
              "<matplotlib.axes._subplots.AxesSubplot at 0x7fa901c72a10>"
            ]
          },
          "metadata": {},
          "execution_count": 67
        },
        {
          "output_type": "display_data",
          "data": {
            "image/png": "[encoded data removed]",
            "text/plain": [
              "<Figure size 576x288 with 2 Axes>"
            ]
          },
          "metadata": {}
        }
      ]
    },
    {
      "cell_type": "markdown",
      "metadata": {
        "id": "86mUT2MicmLS"
      },
      "source": [
        "# Optimal No of Clusters"
      ]
    },
    {
      "cell_type": "code",
      "metadata": {
        "id": "5SfJkuckfl7j",
        "colab": {
          "base_uri": "https://localhost:8080/",
          "height": 315
        },
        "outputId": "3c40d7ce-522c-40eb-82bf-64fce13838ca"
      },
      "source": [
        "from sklearn.cluster import KMeans\n",
        "wcss = []\n",
        "for i in range(1, 11):\n",
        "    kmeans = KMeans(n_clusters = i, max_iter = 200, random_state = 0)\n",
        "    kmeans.fit(X_train,Y_train)\n",
        "    wcss.append(kmeans.inertia_)\n",
        "plt.plot(range(1, 11), wcss)\n",
        "plt.title('The Elbow Method')\n",
        "plt.xlabel('Number of clusters')\n",
        "plt.ylabel('WCSS')\n",
        "plt.show()"
      ],
      "execution_count": 68,
      "outputs": [
        {
          "output_type": "display_data",
          "data": {
            "image/png": "[encoded data removed]",
            "text/plain": [
              "<Figure size 432x288 with 1 Axes>"
            ]
          },
          "metadata": {}
        }
      ]
    },
    {
      "cell_type": "markdown",
      "metadata": {
        "id": "qyBz2LQzgJug"
      },
      "source": [
        "#K-Means Clustering"
      ]
    },
    {
      "cell_type": "code",
      "metadata": {
        "id": "hBLUp8eVilYy",
        "colab": {
          "base_uri": "https://localhost:8080/"
        },
        "outputId": "2c20f32a-6213-4ad7-9a5c-29cbcb5e96ac"
      },
      "source": [
        "X_train.shape"
      ],
      "execution_count": 69,
      "outputs": [
        {
          "output_type": "execute_result",
          "data": {
            "text/plain": [
              "(11920, 29)"
            ]
          },
          "metadata": {},
          "execution_count": 69
        }
      ]
    },
    {
      "cell_type": "code",
      "metadata": {
        "id": "jxcjKhfRio_Y",
        "colab": {
          "base_uri": "https://localhost:8080/"
        },
        "outputId": "352cf19d-eb89-4e95-d755-479b88c612c3"
      },
      "source": [
        "Y_train.shape"
      ],
      "execution_count": 70,
      "outputs": [
        {
          "output_type": "execute_result",
          "data": {
            "text/plain": [
              "(11920,)"
            ]
          },
          "metadata": {},
          "execution_count": 70
        }
      ]
    },
    {
      "cell_type": "code",
      "metadata": {
        "id": "5PpbyQ7ggMg1"
      },
      "source": [
        "kmeans = KMeans(n_clusters = 2, max_iter = 200, random_state = 0).fit(X_train,Y_train)\n",
        "centers = kmeans.cluster_centers_"
      ],
      "execution_count": 71,
      "outputs": []
    },
    {
      "cell_type": "code",
      "metadata": {
        "id": "Or9FGYhAggIC",
        "colab": {
          "base_uri": "https://localhost:8080/",
          "height": 203
        },
        "outputId": "57b77069-204d-4a47-b7c2-58d048f7193c"
      },
      "source": [
        "from scipy import spatial\n",
        "distance = pd.DataFrame(spatial.distance.cdist(X_test, centers, 'euclidean'))\n",
        "distance['distance_mean'] = distance.apply(np.mean, axis=1)\n",
        "distance.head()"
      ],
      "execution_count": 72,
      "outputs": [
        {
          "output_type": "execute_result",
          "data": {
            "text/html": [
              "<div>\n",
              "<style scoped>\n",
              "    .dataframe tbody tr th:only-of-type {\n",
              "        vertical-align: middle;\n",
              "    }\n",
              "\n",
              "    .dataframe tbody tr th {\n",
              "        vertical-align: top;\n",
              "    }\n",
              "\n",
              "    .dataframe thead th {\n",
              "        text-align: right;\n",
              "    }\n",
              "</style>\n",
              "<table border=\"1\" class=\"dataframe\">\n",
              "  <thead>\n",
              "    <tr style=\"text-align: right;\">\n",
              "      <th></th>\n",
              "      <th>0</th>\n",
              "      <th>1</th>\n",
              "      <th>distance_mean</th>\n",
              "    </tr>\n",
              "  </thead>\n",
              "  <tbody>\n",
              "    <tr>\n",
              "      <th>0</th>\n",
              "      <td>5.071380</td>\n",
              "      <td>18.095050</td>\n",
              "      <td>11.583215</td>\n",
              "    </tr>\n",
              "    <tr>\n",
              "      <th>1</th>\n",
              "      <td>17.541396</td>\n",
              "      <td>7.291548</td>\n",
              "      <td>12.416472</td>\n",
              "    </tr>\n",
              "    <tr>\n",
              "      <th>2</th>\n",
              "      <td>6.383472</td>\n",
              "      <td>18.685921</td>\n",
              "      <td>12.534696</td>\n",
              "    </tr>\n",
              "    <tr>\n",
              "      <th>3</th>\n",
              "      <td>5.628673</td>\n",
              "      <td>18.330074</td>\n",
              "      <td>11.979373</td>\n",
              "    </tr>\n",
              "    <tr>\n",
              "      <th>4</th>\n",
              "      <td>14.552277</td>\n",
              "      <td>13.668755</td>\n",
              "      <td>14.110516</td>\n",
              "    </tr>\n",
              "  </tbody>\n",
              "</table>\n",
              "</div>"
            ],
            "text/plain": [
              "           0          1  distance_mean\n",
              "0   5.071380  18.095050      11.583215\n",
              "1  17.541396   7.291548      12.416472\n",
              "2   6.383472  18.685921      12.534696\n",
              "3   5.628673  18.330074      11.979373\n",
              "4  14.552277  13.668755      14.110516"
            ]
          },
          "metadata": {},
          "execution_count": 72
        }
      ]
    },
    {
      "cell_type": "code",
      "metadata": {
        "id": "wwcmjUQAgq9C"
      },
      "source": [
        "out_per = np.percentile(distance['distance_mean'], 95)\n",
        "model_predict_km = np.where(distance['distance_mean'] >= out_per, 1, 0)"
      ],
      "execution_count": 73,
      "outputs": []
    },
    {
      "cell_type": "code",
      "metadata": {
        "id": "dxFq4AKZiapI",
        "colab": {
          "base_uri": "https://localhost:8080/"
        },
        "outputId": "0680a2f5-d79f-4d89-a4f9-4894ddcf6ab9"
      },
      "source": [
        "Y_test.shape"
      ],
      "execution_count": 74,
      "outputs": [
        {
          "output_type": "execute_result",
          "data": {
            "text/plain": [
              "(3974,)"
            ]
          },
          "metadata": {},
          "execution_count": 74
        }
      ]
    },
    {
      "cell_type": "code",
      "metadata": {
        "id": "bQs57wwric15",
        "colab": {
          "base_uri": "https://localhost:8080/"
        },
        "outputId": "541cb47f-03fa-4669-dc48-3d4719d8acc8"
      },
      "source": [
        "model_predict_km.shape"
      ],
      "execution_count": 75,
      "outputs": [
        {
          "output_type": "execute_result",
          "data": {
            "text/plain": [
              "(3974,)"
            ]
          },
          "metadata": {},
          "execution_count": 75
        }
      ]
    },
    {
      "cell_type": "code",
      "metadata": {
        "id": "2WS-xUFigtEi",
        "colab": {
          "base_uri": "https://localhost:8080/",
          "height": 340
        },
        "outputId": "b26a7ebf-e299-428c-ffa0-8f043f1db8c2"
      },
      "source": [
        "km_accuracy = accuracy_score(Y_test, model_predict_km)\n",
        "km_recall = recall_score(Y_test, model_predict_km)\n",
        "km_cm = confusion_matrix(Y_test, model_predict_km)\n",
        "km_auc = roc_auc_score(Y_test, model_predict_km)\n",
        "\n",
        "print(\"Accuracy: {:.4%}\".format(km_accuracy))\n",
        "print(\"Recall: {:.4%}\".format(km_recall))\n",
        "print(\"ROC AUC: {:.4%}\".format(km_auc))\n",
        "\n",
        "km_cm = pd.DataFrame(km_cm, ['True Normal','True Fraud'],['Prediction Normal','Prediction Fraud'])\n",
        "pyplot.figure(figsize = (8,4))\n",
        "sns.set(font_scale=1.4)\n",
        "sns.heatmap(km_cm, annot=True,annot_kws={\"size\": 16},fmt='g')"
      ],
      "execution_count": 76,
      "outputs": [
        {
          "output_type": "stream",
          "name": "stdout",
          "text": [
            "Accuracy: 51.3337%\n",
            "Recall: 7.1181%\n",
            "ROC AUC: 52.1495%\n"
          ]
        },
        {
          "output_type": "execute_result",
          "data": {
            "text/plain": [
              "<matplotlib.axes._subplots.AxesSubplot at 0x7fa90b3f1ad0>"
            ]
          },
          "metadata": {},
          "execution_count": 76
        },
        {
          "output_type": "display_data",
          "data": {
            "image/png": "[encoded data removed]",
            "text/plain": [
              "<Figure size 576x288 with 2 Axes>"
            ]
          },
          "metadata": {}
        }
      ]
    },
    {
      "cell_type": "markdown",
      "metadata": {
        "id": "V8KoomFXjNuK"
      },
      "source": [
        "#INFERENCE"
      ]
    },
    {
      "cell_type": "code",
      "metadata": {
        "id": "Dot0RLdFjyuz"
      },
      "source": [
        "Prediction_Accuracy={\n",
        "    'Logistic Regression': lr_accuracy,\n",
        "    'Random Forest': rf_accuracy,\n",
        "    'K-Means': km_accuracy\n",
        "}\n",
        "\n",
        "Prediction_Recall={\n",
        "    'Logistic Regression': lr_recall,\n",
        "    'Random Forest': rf_recall,\n",
        "    'K-Means': km_recall\n",
        "}\n",
        "\n",
        "Prediction_AUC={\n",
        "    'Logistic Regression': lr_auc,\n",
        "    'Random Forest': rf_auc,\n",
        "    'K-Means': km_auc\n",
        "}"
      ],
      "execution_count": 77,
      "outputs": []
    },
    {
      "cell_type": "code",
      "metadata": {
        "id": "gbe2wVk9kCSR",
        "colab": {
          "base_uri": "https://localhost:8080/",
          "height": 332
        },
        "outputId": "4a019250-6b17-4ee7-e239-59814c6b52c2"
      },
      "source": [
        "pyplot.title('Accuracy')\n",
        "pyplot.barh(range(len(Prediction_Accuracy)), list(Prediction_Accuracy.values()), align='center')\n",
        "pyplot.yticks(range(len(Prediction_Accuracy)), list(Prediction_Accuracy.keys()))\n",
        "pyplot.xlabel('Accuracy Score')"
      ],
      "execution_count": 78,
      "outputs": [
        {
          "output_type": "execute_result",
          "data": {
            "text/plain": [
              "Text(0.5, 0, 'Accuracy Score')"
            ]
          },
          "metadata": {},
          "execution_count": 78
        },
        {
          "output_type": "display_data",
          "data": {
            "image/png": "[encoded data removed]",
            "text/plain": [
              "<Figure size 432x288 with 1 Axes>"
            ]
          },
          "metadata": {}
        }
      ]
    },
    {
      "cell_type": "code",
      "metadata": {
        "id": "UALaNJz7kH_o",
        "colab": {
          "base_uri": "https://localhost:8080/",
          "height": 332
        },
        "outputId": "ee9cd23d-07cc-4b53-eaae-261ab6143d65"
      },
      "source": [
        "pyplot.title('Recall')\n",
        "pyplot.barh(range(len(Prediction_Recall)), list(Prediction_Recall.values()), align='center')\n",
        "pyplot.yticks(range(len(Prediction_Recall)), list(Prediction_Recall.keys()))\n",
        "pyplot.xlabel('Recall Score')"
      ],
      "execution_count": 79,
      "outputs": [
        {
          "output_type": "execute_result",
          "data": {
            "text/plain": [
              "Text(0.5, 0, 'Recall Score')"
            ]
          },
          "metadata": {},
          "execution_count": 79
        },
        {
          "output_type": "display_data",
          "data": {
            "image/png": "[encoded data removed]",
            "text/plain": [
              "<Figure size 432x288 with 1 Axes>"
            ]
          },
          "metadata": {}
        }
      ]
    },
    {
      "cell_type": "code",
      "metadata": {
        "id": "rcSKAu_TkMSo",
        "colab": {
          "base_uri": "https://localhost:8080/",
          "height": 332
        },
        "outputId": "2678ae24-3b12-4b56-c86d-870b68a243ce"
      },
      "source": [
        "pyplot.title('AUC Score')\n",
        "pyplot.barh(range(len(Prediction_AUC)), list(Prediction_AUC.values()), align='center')\n",
        "pyplot.yticks(range(len(Prediction_AUC)), list(Prediction_AUC.keys()))\n",
        "pyplot.xlabel('AUC Score')"
      ],
      "execution_count": 80,
      "outputs": [
        {
          "output_type": "execute_result",
          "data": {
            "text/plain": [
              "Text(0.5, 0, 'AUC Score')"
            ]
          },
          "metadata": {},
          "execution_count": 80
        },
        {
          "output_type": "display_data",
          "data": {
            "image/png": "[encoded data removed]",
            "text/plain": [
              "<Figure size 432x288 with 1 Axes>"
            ]
          },
          "metadata": {}
        }
      ]
    }
  ]
}